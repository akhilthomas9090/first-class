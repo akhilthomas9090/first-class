{
  "nbformat": 4,
  "nbformat_minor": 0,
  "metadata": {
    "colab": {
      "provenance": []
    },
    "kernelspec": {
      "name": "python3",
      "display_name": "Python 3"
    },
    "language_info": {
      "name": "python"
    }
  },
  "cells": [
    {
      "cell_type": "code",
      "execution_count": 22,
      "metadata": {
        "colab": {
          "base_uri": "https://localhost:8080/",
          "height": 157
        },
        "id": "VYhRncUo9leD",
        "outputId": "7413965a-05d7-407b-bf57-ab72d3c3487e"
      },
      "outputs": [
        {
          "name": "stdout",
          "output_type": "stream",
          "text": [
            "hello world\n",
            "akhil\n",
            "hello akhil\n",
            "hi isabel is beautiful\n",
            "enter your name: isabel\n",
            "hello isabel\n",
            "input()\n"
          ]
        },
        {
          "output_type": "execute_result",
          "data": {
            "text/plain": [
              "'input()'"
            ],
            "application/vnd.google.colaboratory.intrinsic+json": {
              "type": "string"
            }
          },
          "metadata": {},
          "execution_count": 22
        }
      ],
      "source": [
        "print(\"hello world\")\n",
        "\n",
        "name = 'akhil'\n",
        "print(name)\n",
        "\n",
        "print(\"hello\",name)\n",
        "\n",
        "name = \"isabel is beautiful\"\n",
        "print(\"hi\",name)\n",
        "\n",
        "name = input('enter your name: ')\n",
        "print(\"hello \" + name)\n",
        "input()\n"
      ]
    }
  ]
}